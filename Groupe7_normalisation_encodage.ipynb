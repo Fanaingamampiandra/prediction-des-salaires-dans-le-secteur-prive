{
 "cells": [
  {
   "cell_type": "code",
   "execution_count": 3,
   "id": "57f96bd5",
   "metadata": {},
   "outputs": [],
   "source": [
    "import pandas as pd\n",
    "from sklearn.preprocessing import OneHotEncoder, StandardScaler\n",
    "from category_encoders import TargetEncoder\n",
    "from sklearn.compose import ColumnTransformer\n",
    "from sklearn.pipeline import Pipeline"
   ]
  },
  {
   "cell_type": "code",
   "execution_count": 4,
   "id": "cc8fe263",
   "metadata": {},
   "outputs": [],
   "source": [
    "## lien vers le dataset\n",
    "data_path = r\"dataset\\DS_BTS_SAL_EQTP_SEX_PCS_2023_data.csv\""
   ]
  },
  {
   "cell_type": "code",
   "execution_count": 5,
   "id": "7d341626",
   "metadata": {},
   "outputs": [],
   "source": [
    "df= pd.read_csv(data_path, sep=';')"
   ]
  },
  {
   "cell_type": "code",
   "execution_count": 7,
   "id": "ecc13a82",
   "metadata": {},
   "outputs": [],
   "source": [
    "## effacer les valeurs manquantes dans la target\n",
    "df = df.dropna(subset=['OBS_VALUE']) "
   ]
  },
  {
   "cell_type": "code",
   "execution_count": 8,
   "id": "c5c0031c",
   "metadata": {},
   "outputs": [],
   "source": [
    "import pandas as pd\n",
    "from sklearn.preprocessing import OneHotEncoder, StandardScaler\n",
    "from category_encoders import TargetEncoder\n",
    "from sklearn.compose import ColumnTransformer\n",
    "from sklearn.pipeline import Pipeline\n",
    "\n",
    "# Supposons que df soit ton DataFrame\n",
    "X = df.drop(columns=[\"OBS_VALUE\", \"FREQ\", \"DERA_MEASURE\"]) #\"GEO\"\n",
    "y = df[\"OBS_VALUE\"]\n",
    "\n",
    "# Colonnes par type\n",
    "onehot_cols = [\"GEO_OBJECT\", \"SEX\"]\n",
    "target_cols = [\"PCS_ESE\",\"GEO\"]\n",
    "binary_cols = [\"CONF_STATUS\", \"TIME_PERIOD\"]  # ou OrdinalEncoder   \n",
    "#num_cols = [\"TIME_PERIOD\"] # suppose que tu as une colonne Year\n",
    "# Encoders\n",
    "onehot_enc = OneHotEncoder(drop=\"first\", sparse_output=False)\n",
    "target_enc = TargetEncoder()\n",
    "#scaler = StandardScaler()\n",
    "\n",
    "# Préprocesseur\n",
    "preprocessor = ColumnTransformer(\n",
    "    transformers=[\n",
    "        (\"onehot\", onehot_enc, onehot_cols),\n",
    "        (\"target\", target_enc, target_cols),\n",
    "        (\"binary\", \"passthrough\", binary_cols),  # ou OrdinalEncoder\n",
    "        #(\"num\", scaler, num_cols),\n",
    "    ]\n",
    ")\n",
    "\n",
    "# Pipeline finale\n",
    "pipeline = Pipeline(steps=[\n",
    "    (\"preprocess\", preprocessor),\n",
    "    # Ici tu peux ajouter un modèle : (\"model\", Regression/ML)\n",
    "])\n",
    "\n",
    "# Fit-transform\n",
    "X_processed = pipeline.fit_transform(X, y)\n"
   ]
  },
  {
   "cell_type": "code",
   "execution_count": null,
   "id": "b662ecfa",
   "metadata": {},
   "outputs": [],
   "source": []
  }
 ],
 "metadata": {
  "kernelspec": {
   "display_name": "Python 3",
   "language": "python",
   "name": "python3"
  },
  "language_info": {
   "codemirror_mode": {
    "name": "ipython",
    "version": 3
   },
   "file_extension": ".py",
   "mimetype": "text/x-python",
   "name": "python",
   "nbconvert_exporter": "python",
   "pygments_lexer": "ipython3",
   "version": "3.13.7"
  }
 },
 "nbformat": 4,
 "nbformat_minor": 5
}
