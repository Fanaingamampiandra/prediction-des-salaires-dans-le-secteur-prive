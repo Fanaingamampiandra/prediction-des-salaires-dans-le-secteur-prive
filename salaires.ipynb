{
 "cells": [
  {
   "cell_type": "markdown",
   "id": "c48ff7d7",
   "metadata": {},
   "source": [
    "## Prediction de salaire"
   ]
  },
  {
   "cell_type": "markdown",
   "id": "e3dbf1aa",
   "metadata": {},
   "source": [
    "### Bibliothèques utiles"
   ]
  },
  {
   "cell_type": "code",
   "execution_count": 35,
   "id": "106ef5ea",
   "metadata": {},
   "outputs": [],
   "source": [
    "import numpy as np\n",
    "import pandas as pd\n",
    "import matplotlib.pyplot as plt\n",
    "import seaborn as sns\n",
    "\n",
    "from sklearn.datasets import fetch_openml\n",
    "from sklearn.model_selection import train_test_split, cross_val_score\n",
    "from sklearn.preprocessing import StandardScaler\n",
    "from sklearn.impute import SimpleImputer\n",
    "from sklearn.pipeline import Pipeline\n",
    "from sklearn.compose import ColumnTransformer\n",
    "from sklearn.metrics import mean_squared_error, r2_score\n",
    "from sklearn.preprocessing import LabelEncoder\n",
    "from sklearn.linear_model import LogisticRegression\n",
    "from sklearn.metrics import classification_report, confusion_matrix\n",
    "\n",
    "\n",
    "from sklearn.linear_model import LinearRegression, Ridge\n",
    "from sklearn.ensemble import RandomForestRegressor\n",
    "from xgboost import XGBRegressor\n",
    "\n",
    "from sklearn.cluster import KMeans\n",
    "from sklearn.decomposition import PCA\n",
    "\n",
    "RANDOM_STATE = 42\n",
    "np.random.seed(RANDOM_STATE)\n",
    "\n",
    "pd.set_option(\"display.float_format\", lambda x: f\"{x:,.3f}\")\n",
    "sns.set_context(\"talk\")\n",
    "pd.set_option('display.max_columns', 200)\n",
    "pd.set_option('display.width', 200)\n"
   ]
  },
  {
   "cell_type": "markdown",
   "id": "7f74dc91",
   "metadata": {},
   "source": [
    "### I-  Description de la base de donnée"
   ]
  },
  {
   "cell_type": "markdown",
   "id": "7a905436",
   "metadata": {},
   "source": [
    "#### Salaires dans le secteur privé selon le sexe et la catégorie socioprofessionnelle (base communale)\n",
    "\n",
    "* Le champ correspond aux salariés du privé, y compris bénéficiaires de contrats aidés et de contrats de professionnalisation ; hors apprentis, stagiaires, salariés agricoles et salariés des particuliers employeurs.\n",
    "\n",
    "* Les données sur les salaires au lieu de travail sont ventilées selon le sexe et la catégorie socioprofessionnelle (hors agriculture), et détaillées par territoire : commune, arrondissement municipal, arrondissement, aire d'attraction des villes 2020, bassin de vie 2022, établissement public de coopération intercommunal, unité urbaine 2020, zone d'emploi 2020, département, région, France hors Mayotte.\n",
    "\n",
    "Variables explicatives retenues :\n",
    "\n",
    "SEX : Sexe (Homme/Femme) - impact attendu sur l'écart salarial\n",
    "\n",
    "PCS_ESE : Profession et Catégorie Socioprofessionnelle - déterminant principal\n",
    "\n",
    "TIME_PERIOD : Année (2022-2023) - évolution temporelle\n",
    "\n",
    "GEO : Code géographique - variations territoriales"
   ]
  },
  {
   "cell_type": "code",
   "execution_count": 20,
   "id": "a0895856",
   "metadata": {},
   "outputs": [],
   "source": [
    "## lien vers le dataset\n",
    "data_path = r\"dataset\\DS_BTS_SAL_EQTP_SEX_PCS_2023_data.csv\"\n",
    "metadata_path = r\"dataset\\DS_BTS_SAL_EQTP_SEX_PCS_2023_metadata.csv\"\n"
   ]
  },
  {
   "cell_type": "code",
   "execution_count": 21,
   "id": "83e92be2",
   "metadata": {},
   "outputs": [],
   "source": [
    "data = pd.read_csv(data_path, sep=';')\n",
    "metadata = pd.read_csv(metadata_path, sep=';')"
   ]
  },
  {
   "cell_type": "code",
   "execution_count": 22,
   "id": "9a24397e",
   "metadata": {},
   "outputs": [
    {
     "name": "stdout",
     "output_type": "stream",
     "text": [
      " Dimensions du dataset: (370710, 9)\n",
      " Colonnes disponibles: ['GEO', 'GEO_OBJECT', 'FREQ', 'SEX', 'PCS_ESE', 'DERA_MEASURE', 'CONF_STATUS', 'TIME_PERIOD', 'OBS_VALUE']\n"
     ]
    }
   ],
   "source": [
    "# Affichage des informations de base\n",
    "print(f\" Dimensions du dataset: {data.shape}\")\n",
    "print(f\" Colonnes disponibles: {list(data.columns)}\")"
   ]
  },
  {
   "cell_type": "code",
   "execution_count": 23,
   "id": "24ededf1",
   "metadata": {},
   "outputs": [
    {
     "name": "stdout",
     "output_type": "stream",
     "text": [
      "\n",
      " Aperçu des premières lignes:\n",
      "     GEO GEO_OBJECT FREQ SEX PCS_ESE                      DERA_MEASURE CONF_STATUS  TIME_PERIOD  OBS_VALUE\n",
      "0  26362     BV2022    A   F      _T  SALAIRE_NET_EQTP_MENSUEL_MOYENNE           F         2022  2,157.285\n",
      "1  26324     BV2022    A  _T       4  SALAIRE_NET_EQTP_MENSUEL_MOYENNE           F         2022  3,112.938\n",
      "2  26307     BV2022    A  _T       6  SALAIRE_NET_EQTP_MENSUEL_MOYENNE           F         2023  2,013.097\n",
      "3  26362     BV2022    A  _T      _T  SALAIRE_NET_EQTP_MENSUEL_MOYENNE           F         2023  2,483.037\n",
      "4  27170     BV2022    A   F       4  SALAIRE_NET_EQTP_MENSUEL_MOYENNE           F         2022  2,107.221\n"
     ]
    }
   ],
   "source": [
    "print(\"\\n Aperçu des premières lignes:\")\n",
    "print(data.head())"
   ]
  },
  {
   "cell_type": "code",
   "execution_count": 24,
   "id": "64a627a1",
   "metadata": {},
   "outputs": [
    {
     "name": "stdout",
     "output_type": "stream",
     "text": [
      " Types de données:\n",
      "GEO              object\n",
      "GEO_OBJECT       object\n",
      "FREQ             object\n",
      "SEX              object\n",
      "PCS_ESE          object\n",
      "DERA_MEASURE     object\n",
      "CONF_STATUS      object\n",
      "TIME_PERIOD       int64\n",
      "OBS_VALUE       float64\n",
      "dtype: object\n"
     ]
    }
   ],
   "source": [
    "print(\" Types de données:\")\n",
    "print(data.dtypes)"
   ]
  },
  {
   "cell_type": "code",
   "execution_count": 25,
   "id": "49dc1dc1",
   "metadata": {},
   "outputs": [
    {
     "name": "stdout",
     "output_type": "stream",
     "text": [
      "\n",
      "📋 Informations détaillées:\n",
      "<class 'pandas.core.frame.DataFrame'>\n",
      "RangeIndex: 370710 entries, 0 to 370709\n",
      "Data columns (total 9 columns):\n",
      " #   Column        Non-Null Count   Dtype  \n",
      "---  ------        --------------   -----  \n",
      " 0   GEO           370710 non-null  object \n",
      " 1   GEO_OBJECT    370710 non-null  object \n",
      " 2   FREQ          370710 non-null  object \n",
      " 3   SEX           370710 non-null  object \n",
      " 4   PCS_ESE       370710 non-null  object \n",
      " 5   DERA_MEASURE  370710 non-null  object \n",
      " 6   CONF_STATUS   370710 non-null  object \n",
      " 7   TIME_PERIOD   370710 non-null  int64  \n",
      " 8   OBS_VALUE     350250 non-null  float64\n",
      "dtypes: float64(1), int64(1), object(7)\n",
      "memory usage: 25.5+ MB\n",
      "None\n"
     ]
    }
   ],
   "source": [
    "\n",
    "print(\"\\n📋 Informations détaillées:\")\n",
    "print(data.info())"
   ]
  },
  {
   "cell_type": "code",
   "execution_count": 26,
   "id": "f4159055",
   "metadata": {},
   "outputs": [
    {
     "name": "stdout",
     "output_type": "stream",
     "text": [
      "📊 Analyse des variables catégorielles:\n",
      "\n",
      "GEO_OBJECT (11 valeurs uniques):\n",
      "  Valeurs: ['BV2022' 'ARR' 'AAV2020' 'COM' 'UU2020' 'ARM' 'EPCI' 'ZE2020' 'DEP'\n",
      " 'FRANCE']...\n",
      "\n",
      "FREQ (1 valeurs uniques):\n",
      "  Valeurs: ['A']...\n",
      "\n",
      "SEX (3 valeurs uniques):\n",
      "  Valeurs: ['F' '_T' 'M']...\n",
      "\n",
      "PCS_ESE (5 valeurs uniques):\n",
      "  Valeurs: ['_T' '4' '6' '5' '1T3']...\n",
      "\n",
      "DERA_MEASURE (1 valeurs uniques):\n",
      "  Valeurs: ['SALAIRE_NET_EQTP_MENSUEL_MOYENNE']...\n",
      "\n",
      "CONF_STATUS (2 valeurs uniques):\n",
      "  Valeurs: ['F' 'C']...\n",
      "\n",
      "📈 Variable cible (OBS_VALUE) - Statistiques descriptives:\n",
      "count   350,250.000\n",
      "mean      2,445.223\n",
      "std         758.391\n",
      "min         793.399\n",
      "25%       1,908.283\n",
      "50%       2,191.887\n",
      "75%       2,671.732\n",
      "max      14,047.315\n",
      "Name: OBS_VALUE, dtype: float64\n",
      "\n",
      "📅 Période temporelle:\n",
      "  Années disponibles: [np.int64(2022), np.int64(2023)]\n",
      "\n",
      "❌ Valeurs manquantes:\n",
      "OBS_VALUE    20460\n",
      "dtype: int64\n"
     ]
    }
   ],
   "source": [
    "# Analyse des variables uniques\n",
    "print(\"📊 Analyse des variables catégorielles:\")\n",
    "categorical_vars = ['GEO_OBJECT', 'FREQ', 'SEX', 'PCS_ESE', 'DERA_MEASURE', 'CONF_STATUS']\n",
    "\n",
    "for var in categorical_vars:\n",
    "    unique_vals = data[var].unique()\n",
    "    print(f\"\\n{var} ({len(unique_vals)} valeurs uniques):\")\n",
    "    print(f\"  Valeurs: {unique_vals[:10]}...\")  # Afficher les 10 premières valeurs\n",
    "\n",
    "print(f\"\\n📈 Variable cible (OBS_VALUE) - Statistiques descriptives:\")\n",
    "print(data['OBS_VALUE'].describe())\n",
    "\n",
    "print(f\"\\n📅 Période temporelle:\")\n",
    "print(f\"  Années disponibles: {sorted(data['TIME_PERIOD'].unique())}\")\n",
    "\n",
    "print(f\"\\n❌ Valeurs manquantes:\")\n",
    "missing_data = data.isnull().sum()\n",
    "print(missing_data[missing_data > 0])\n"
   ]
  },
  {
   "cell_type": "code",
   "execution_count": null,
   "id": "05e677f6",
   "metadata": {},
   "outputs": [],
   "source": []
  },
  {
   "cell_type": "code",
   "execution_count": null,
   "id": "47b48036",
   "metadata": {},
   "outputs": [],
   "source": []
  },
  {
   "cell_type": "markdown",
   "id": "10695e24",
   "metadata": {},
   "source": [
    "### II-  Analyse exploratoire de donnée"
   ]
  },
  {
   "cell_type": "markdown",
   "id": "59f20c7f",
   "metadata": {},
   "source": [
    "#### A analyse univarié"
   ]
  },
  {
   "cell_type": "code",
   "execution_count": 14,
   "id": "95c09073",
   "metadata": {},
   "outputs": [
    {
     "name": "stdout",
     "output_type": "stream",
     "text": [
      "📋 Après suppression des valeurs manquantes: 350250 lignes\n",
      "\n",
      "📊 ANALYSE UNIVARIÉE:\n",
      "------------------------------\n",
      "🎯 Variable cible (OBS_VALUE - Salaire):\n",
      "  Moyenne: 2445.22€\n",
      "  Médiane: 2191.89€\n",
      "  Écart-type: 758.39€\n",
      "  Min: 793.40€\n",
      "  Max: 14047.32€\n"
     ]
    }
   ],
   "source": [
    "# Nettoyage initial - suppression des lignes avec valeurs manquantes pour OBS_VALUE\n",
    "df_clean = data.dropna(subset=['OBS_VALUE']).copy()\n",
    "print(f\"📋 Après suppression des valeurs manquantes: {df_clean.shape[0]} lignes\")\n",
    "\n",
    "# Décodage des variables catégorielles pour mieux les comprendre\n",
    "print(\"\\n📊 ANALYSE UNIVARIÉE:\")\n",
    "print(\"-\" * 30)\n",
    "\n",
    "# Variable cible\n",
    "print(\"🎯 Variable cible (OBS_VALUE - Salaire):\")\n",
    "print(f\"  Moyenne: {df_clean['OBS_VALUE'].mean():.2f}€\")\n",
    "print(f\"  Médiane: {df_clean['OBS_VALUE'].median():.2f}€\")\n",
    "print(f\"  Écart-type: {df_clean['OBS_VALUE'].std():.2f}€\")\n",
    "print(f\"  Min: {df_clean['OBS_VALUE'].min():.2f}€\")\n",
    "print(f\"  Max: {df_clean['OBS_VALUE'].max():.2f}€\")\n"
   ]
  },
  {
   "cell_type": "code",
   "execution_count": 15,
   "id": "f879ce9d",
   "metadata": {},
   "outputs": [
    {
     "name": "stdout",
     "output_type": "stream",
     "text": [
      "\n",
      "👥 Distribution par SEXE:\n",
      "      count      mean    median     std\n",
      "SEX                                    \n",
      "F    116750 2,277.065 2,054.944 650.718\n",
      "M    116750 2,586.463 2,325.121 825.195\n",
      "_T   116750 2,472.141 2,217.163 756.405\n",
      "\n",
      "💼 Distribution par CATÉGORIE SOCIOPROFESSIONNELLE (PCS_ESE):\n",
      "                     count      mean    median     std\n",
      "PCS_ESE_decoded                                       \n",
      "Cadres               70050 3,713.431 3,668.245 603.721\n",
      "Prof_intermédiaires  70050 2,474.066 2,441.476 285.048\n",
      "Ensemble             70050 2,258.867 2,200.938 322.249\n",
      "Ouvriers             70050 1,911.016 1,915.633 209.056\n",
      "Employés             70050 1,868.733 1,848.270 144.475\n"
     ]
    }
   ],
   "source": [
    "\n",
    "# Distribution par sexe\n",
    "print(\"\\n👥 Distribution par SEXE:\")\n",
    "sex_stats = df_clean.groupby('SEX')['OBS_VALUE'].agg(['count', 'mean', 'median', 'std'])\n",
    "print(sex_stats)\n",
    "\n",
    "# Mapping pour décoder les valeurs\n",
    "sex_mapping = {'F': 'Femme', 'M': 'Homme', '_T': 'Total/Ensemble'}\n",
    "pcs_mapping = {'1T3': 'Cadres', '4': 'Prof_intermédiaires', '5': 'Employés', \n",
    "               '6': 'Ouvriers', '_T': 'Ensemble'}\n",
    "\n",
    "df_clean['SEX_decoded'] = df_clean['SEX'].map(sex_mapping)\n",
    "df_clean['PCS_ESE_decoded'] = df_clean['PCS_ESE'].map(pcs_mapping)\n",
    "\n",
    "print(\"\\n💼 Distribution par CATÉGORIE SOCIOPROFESSIONNELLE (PCS_ESE):\")\n",
    "pcs_stats = df_clean.groupby('PCS_ESE_decoded')['OBS_VALUE'].agg(['count', 'mean', 'median', 'std'])\n",
    "print(pcs_stats.sort_values('mean', ascending=False))"
   ]
  },
  {
   "cell_type": "markdown",
   "id": "99b071c8",
   "metadata": {},
   "source": [
    "#### B Analyse bivariée"
   ]
  },
  {
   "cell_type": "code",
   "execution_count": 16,
   "id": "141c19df",
   "metadata": {},
   "outputs": [
    {
     "name": "stdout",
     "output_type": "stream",
     "text": [
      "💰 Écart salarial Homme/Femme par catégorie:\n",
      "SEX                         F         M  Écart_H_F  Écart_%\n",
      "PCS_ESE_decoded                                            \n",
      "Cadres              3,399.610 3,966.410    566.790   16.670\n",
      "Employés            1,830.140 1,922.680     92.550    5.060\n",
      "Ensemble            2,097.630 2,400.770    303.140   14.450\n",
      "Ouvriers            1,751.640 2,012.570    260.930   14.900\n",
      "Prof_intermédiaires 2,306.310 2,629.890    323.580   14.030\n"
     ]
    }
   ],
   "source": [
    "# Analyse de l'écart salarial par sexe et CSP\n",
    "print(\"💰 Écart salarial Homme/Femme par catégorie:\")\n",
    "pivot_sex_pcs = df_clean[df_clean['SEX'].isin(['F', 'M'])].pivot_table(\n",
    "    values='OBS_VALUE', \n",
    "    index='PCS_ESE_decoded', \n",
    "    columns='SEX', \n",
    "    aggfunc='mean'\n",
    ")\n",
    "pivot_sex_pcs['Écart_H_F'] = pivot_sex_pcs['M'] - pivot_sex_pcs['F']\n",
    "pivot_sex_pcs['Écart_%'] = (pivot_sex_pcs['Écart_H_F'] / pivot_sex_pcs['F']) * 100\n",
    "print(pivot_sex_pcs.round(2))\n"
   ]
  },
  {
   "cell_type": "code",
   "execution_count": 18,
   "id": "df88dbd7",
   "metadata": {},
   "outputs": [
    {
     "name": "stdout",
     "output_type": "stream",
     "text": [
      "\n",
      "📅 Évolution des salaires par année:\n",
      "SEX_decoded     Femme     Homme  Total/Ensemble\n",
      "TIME_PERIOD                                    \n",
      "2022        2,237.830 2,549.740       2,434.670\n",
      "2023        2,316.300 2,623.180       2,509.610\n",
      "\n",
      "🔍 DÉTECTION DES OUTLIERS:\n",
      "------------------------------\n",
      "📊 Nombre d'outliers détectés: 28517 (8.1%)\n",
      "📊 Seuil inférieur: 763.11€\n",
      "📊 Seuil supérieur: 3816.91€\n",
      "📊 Outliers les plus extrêmes:\n",
      "           SEX_decoded      PCS_ESE_decoded  OBS_VALUE  TIME_PERIOD\n",
      "17317            Homme  Prof_intermédiaires 14,047.315         2023\n",
      "15260   Total/Ensemble  Prof_intermédiaires 10,864.653         2023\n",
      "41951            Homme  Prof_intermédiaires  9,648.090         2022\n",
      "319056           Homme               Cadres  9,618.147         2023\n",
      "189255           Homme               Cadres  9,241.599         2022\n"
     ]
    }
   ],
   "source": [
    "# Évolution temporelle\n",
    "print(\"\\n📅 Évolution des salaires par année:\")\n",
    "temporal_analysis = df_clean.groupby(['TIME_PERIOD', 'SEX_decoded'])['OBS_VALUE'].mean().unstack()\n",
    "print(temporal_analysis.round(2))\n",
    "\n",
    "# Détection des outliers avec la méthode IQR\n",
    "print(\"\\n🔍 DÉTECTION DES OUTLIERS:\")\n",
    "print(\"-\" * 30)\n",
    "Q1 = df_clean['OBS_VALUE'].quantile(0.25)\n",
    "Q3 = df_clean['OBS_VALUE'].quantile(0.75)\n",
    "IQR = Q3 - Q1\n",
    "lower_bound = Q1 - 1.5 * IQR\n",
    "upper_bound = Q3 + 1.5 * IQR\n",
    "\n",
    "outliers = df_clean[(df_clean['OBS_VALUE'] < lower_bound) | \n",
    "                   (df_clean['OBS_VALUE'] > upper_bound)]\n",
    "\n",
    "print(f\"📊 Nombre d'outliers détectés: {len(outliers)} ({len(outliers)/len(df_clean)*100:.1f}%)\")\n",
    "print(f\"📊 Seuil inférieur: {lower_bound:.2f}€\")\n",
    "print(f\"📊 Seuil supérieur: {upper_bound:.2f}€\")\n",
    "\n",
    "if len(outliers) > 0:\n",
    "    print(f\"📊 Outliers les plus extrêmes:\")\n",
    "    print(outliers.nlargest(5, 'OBS_VALUE')[['SEX_decoded', 'PCS_ESE_decoded', 'OBS_VALUE', 'TIME_PERIOD']])"
   ]
  },
  {
   "cell_type": "markdown",
   "id": "f4b97791",
   "metadata": {},
   "source": [
    "### III- Modèle de prédiction "
   ]
  },
  {
   "cell_type": "markdown",
   "id": "eef85878",
   "metadata": {},
   "source": [
    "#### A nettoyage de donnée"
   ]
  },
  {
   "cell_type": "code",
   "execution_count": 27,
   "id": "edd1cb98",
   "metadata": {},
   "outputs": [
    {
     "name": "stdout",
     "output_type": "stream",
     "text": [
      "🔄 Nettoyage et préparation:\n",
      "📋 Dataset après exclusion des totaux: 186800 lignes\n",
      "📊 Traitement des outliers:\n",
      "  Avant: Min=793.40, Max=14047.32\n",
      "  Après winsorisation: Min=1536.42, Max=4849.43\n",
      "\n",
      "🔤 Encodage des variables catégorielles:\n",
      "  SEX mapping: {'F': np.int64(0), 'M': np.int64(1)}\n",
      "  PCS_ESE mapping: {'1T3': np.int64(0), '4': np.int64(1), '5': np.int64(2), '6': np.int64(3)}\n",
      "  Variables après création des dummies: 18 colonnes\n",
      "  Features sélectionnées (encoded): ['SEX_encoded', 'PCS_ESE_encoded', 'TIME_PERIOD', 'GEO']\n",
      "  Nombre de features (dummies): 11\n",
      "\n",
      "✅ Dataset final prêt pour la modélisation:\n",
      "  Nombre d'observations: 186800\n",
      "  Features utilisées: ['SEX_encoded', 'PCS_ESE_encoded', 'TIME_PERIOD', 'GEO_numeric']\n",
      "  Variable cible: OBS_VALUE_winsorized\n"
     ]
    },
    {
     "name": "stderr",
     "output_type": "stream",
     "text": [
      "C:\\Users\\User\\AppData\\Local\\Temp\\ipykernel_28072\\100626605.py:49: FutureWarning: A value is trying to be set on a copy of a DataFrame or Series through chained assignment using an inplace method.\n",
      "The behavior will change in pandas 3.0. This inplace method will never work because the intermediate object on which we are setting values always behaves as a copy.\n",
      "\n",
      "For example, when doing 'df[col].method(value, inplace=True)', try using 'df.method({col: value}, inplace=True)' or df[col] = df[col].method(value) instead, to perform the operation inplace on the original object.\n",
      "\n",
      "\n",
      "  df_model['GEO_numeric'].fillna(df_model['GEO_numeric'].median(), inplace=True)\n"
     ]
    }
   ],
   "source": [
    "# Filtrage pour ne garder que les données pertinentes pour la modélisation\n",
    "print(\"🔄 Nettoyage et préparation:\")\n",
    "\n",
    "# Exclusion des lignes \"Total/Ensemble\" pour éviter la redondance\n",
    "df_model = df_clean[\n",
    "    (df_clean['SEX'] != '_T') & \n",
    "    (df_clean['PCS_ESE'] != '_T')\n",
    "].copy()\n",
    "\n",
    "print(f\"📋 Dataset après exclusion des totaux: {df_model.shape[0]} lignes\")\n",
    "\n",
    "# Traitement des outliers - Application d'une transformation log pour réduire l'impact\n",
    "print(\"📊 Traitement des outliers:\")\n",
    "print(f\"  Avant: Min={df_model['OBS_VALUE'].min():.2f}, Max={df_model['OBS_VALUE'].max():.2f}\")\n",
    "\n",
    "# Winsorisation pour limiter les valeurs extrêmes\n",
    "from scipy.stats import mstats\n",
    "df_model['OBS_VALUE_winsorized'] = mstats.winsorize(df_model['OBS_VALUE'], limits=[0.01, 0.01])\n",
    "print(f\"  Après winsorisation: Min={df_model['OBS_VALUE_winsorized'].min():.2f}, Max={df_model['OBS_VALUE_winsorized'].max():.2f}\")\n",
    "\n",
    "# Encodage des variables catégorielles\n",
    "print(\"\\n🔤 Encodage des variables catégorielles:\")\n",
    "\n",
    "# Label Encoding pour les variables ordinales\n",
    "le_sex = LabelEncoder()\n",
    "le_pcs = LabelEncoder()\n",
    "\n",
    "df_model['SEX_encoded'] = le_sex.fit_transform(df_model['SEX'])\n",
    "df_model['PCS_ESE_encoded'] = le_pcs.fit_transform(df_model['PCS_ESE'])\n",
    "\n",
    "print(f\"  SEX mapping: {dict(zip(le_sex.classes_, le_sex.transform(le_sex.classes_)))}\")\n",
    "print(f\"  PCS_ESE mapping: {dict(zip(le_pcs.classes_, le_pcs.transform(le_pcs.classes_)))}\")\n",
    "\n",
    "# Création de variables dummy pour l'interprétation\n",
    "df_model_dummies = pd.get_dummies(df_model, columns=['SEX', 'PCS_ESE'], prefix=['SEX', 'PCS'])\n",
    "print(f\"  Variables après création des dummies: {df_model_dummies.shape[1]} colonnes\")\n",
    "\n",
    "# Sélection des features pour le modèle\n",
    "features_encoded = ['SEX_encoded', 'PCS_ESE_encoded', 'TIME_PERIOD', 'GEO']\n",
    "features_dummies = [col for col in df_model_dummies.columns if col.startswith(('SEX_', 'PCS_'))]\n",
    "features_dummies.append('TIME_PERIOD')\n",
    "\n",
    "print(f\"  Features sélectionnées (encoded): {features_encoded}\")\n",
    "print(f\"  Nombre de features (dummies): {len(features_dummies)}\")\n",
    "\n",
    "# Préparation des données pour GEO (simplification)\n",
    "# Conversion GEO en numérique pour la modélisation\n",
    "df_model['GEO_numeric'] = pd.to_numeric(df_model['GEO'], errors='coerce')\n",
    "df_model['GEO_numeric'].fillna(df_model['GEO_numeric'].median(), inplace=True)\n",
    "\n",
    "features_final = ['SEX_encoded', 'PCS_ESE_encoded', 'TIME_PERIOD', 'GEO_numeric']\n",
    "\n",
    "print(f\"\\n✅ Dataset final prêt pour la modélisation:\")\n",
    "print(f\"  Nombre d'observations: {df_model.shape[0]}\")\n",
    "print(f\"  Features utilisées: {features_final}\")\n",
    "print(f\"  Variable cible: OBS_VALUE_winsorized\")"
   ]
  },
  {
   "cell_type": "markdown",
   "id": "e941d46f",
   "metadata": {},
   "source": [
    "#### Modélisation de donnée"
   ]
  },
  {
   "cell_type": "code",
   "execution_count": 28,
   "id": "5e566aa8",
   "metadata": {},
   "outputs": [
    {
     "name": "stdout",
     "output_type": "stream",
     "text": [
      "📊 Vérification des données d'entrée:\n",
      "  Shape de X: (186800, 4)\n",
      "  Shape de y: (186800,)\n",
      "  Valeurs manquantes dans X: 0\n",
      "  Valeurs manquantes dans y: 0\n"
     ]
    }
   ],
   "source": [
    "\n",
    "\n",
    "# Préparation des données pour l'entraînement\n",
    "X = df_model[features_final]\n",
    "y = df_model['OBS_VALUE_winsorized']\n",
    "\n",
    "print(\"📊 Vérification des données d'entrée:\")\n",
    "print(f\"  Shape de X: {X.shape}\")\n",
    "print(f\"  Shape de y: {y.shape}\")\n",
    "print(f\"  Valeurs manquantes dans X: {X.isnull().sum().sum()}\")\n",
    "print(f\"  Valeurs manquantes dans y: {y.isnull().sum()}\")\n",
    "\n"
   ]
  },
  {
   "cell_type": "code",
   "execution_count": 29,
   "id": "b0f829de",
   "metadata": {},
   "outputs": [
    {
     "name": "stdout",
     "output_type": "stream",
     "text": [
      "\n",
      "📈 Split des données:\n",
      "  Taille train: 149440 (80.0%)\n",
      "  Taille test: 37360 (20.0%)\n"
     ]
    }
   ],
   "source": [
    "# Split train/test\n",
    "X_train, X_test, y_train, y_test = train_test_split(\n",
    "    X, y, test_size=0.2, random_state=42, stratify=df_model['PCS_ESE_encoded']\n",
    ")\n",
    "\n",
    "print(f\"\\n📈 Split des données:\")\n",
    "print(f\"  Taille train: {X_train.shape[0]} ({X_train.shape[0]/len(X)*100:.1f}%)\")\n",
    "print(f\"  Taille test: {X_test.shape[0]} ({X_test.shape[0]/len(X)*100:.1f}%)\")"
   ]
  },
  {
   "cell_type": "code",
   "execution_count": 30,
   "id": "69e6abf2",
   "metadata": {},
   "outputs": [
    {
     "name": "stdout",
     "output_type": "stream",
     "text": [
      "\n",
      "🔧 Standardisation effectuée\n",
      "  Moyennes après standardisation: [-0.  0.  0. -0.]\n",
      "  Écarts-types après standardisation: [1. 1. 1. 1.]\n"
     ]
    }
   ],
   "source": [
    "\n",
    "# Standardisation des features\n",
    "scaler = StandardScaler()\n",
    "X_train_scaled = scaler.fit_transform(X_train)\n",
    "X_test_scaled = scaler.transform(X_test)\n",
    "\n",
    "print(f\"\\n🔧 Standardisation effectuée\")\n",
    "print(f\"  Moyennes après standardisation: {X_train_scaled.mean(axis=0).round(3)}\")\n",
    "print(f\"  Écarts-types après standardisation: {X_train_scaled.std(axis=0).round(3)}\")\n",
    "\n"
   ]
  },
  {
   "cell_type": "code",
   "execution_count": 31,
   "id": "f961b61d",
   "metadata": {},
   "outputs": [
    {
     "name": "stdout",
     "output_type": "stream",
     "text": [
      "\n",
      "🎯 MODÈLE 1: RÉGRESSION LINÉAIRE\n",
      "----------------------------------------\n",
      "💭 Justification du choix:\n",
      "   - Variable cible continue (salaire)\n",
      "   - Relation potentiellement linéaire entre features et salaire\n",
      "   - Interprétabilité élevée des coefficients\n",
      "   - Baseline simple et robuste\n",
      "\n",
      "📊 Coefficients du modèle:\n",
      "  SEX_encoded: 150.154\n",
      "  PCS_ESE_encoded: -662.490\n",
      "  TIME_PERIOD: 35.157\n",
      "  GEO_numeric: -2.323\n",
      "  Intercept: 2473.773\n",
      "\n",
      "🔍 Interprétation des coefficients:\n",
      "  • Être homme (vs femme) : 150€ de différence\n",
      "  • Changement de catégorie PCS : -662€ par niveau\n",
      "  • Évolution annuelle : 35€ par an\n",
      "  • Impact géographique : -2.323123€ par unité geo\n"
     ]
    }
   ],
   "source": [
    "\n",
    "# MODÈLE 1: Régression Linéaire\n",
    "print(f\"\\n🎯 MODÈLE 1: RÉGRESSION LINÉAIRE\")\n",
    "print(\"-\" * 40)\n",
    "print(\"💭 Justification du choix:\")\n",
    "print(\"   - Variable cible continue (salaire)\")\n",
    "print(\"   - Relation potentiellement linéaire entre features et salaire\")\n",
    "print(\"   - Interprétabilité élevée des coefficients\")\n",
    "print(\"   - Baseline simple et robuste\")\n",
    "\n",
    "# Entraînement du modèle de régression linéaire\n",
    "lr_model = LinearRegression()\n",
    "lr_model.fit(X_train_scaled, y_train)\n",
    "\n",
    "# Prédictions\n",
    "y_pred_train_lr = lr_model.predict(X_train_scaled)\n",
    "y_pred_test_lr = lr_model.predict(X_test_scaled)\n",
    "\n",
    "print(f\"\\n📊 Coefficients du modèle:\")\n",
    "for i, feature in enumerate(features_final):\n",
    "    print(f\"  {feature}: {lr_model.coef_[i]:.3f}\")\n",
    "print(f\"  Intercept: {lr_model.intercept_:.3f}\")\n",
    "\n",
    "# Interprétation des coefficients\n",
    "print(f\"\\n🔍 Interprétation des coefficients:\")\n",
    "coef_interpretation = {\n",
    "    'SEX_encoded': f\"Être homme (vs femme) : {lr_model.coef_[0]:.0f}€ de différence\",\n",
    "    'PCS_ESE_encoded': f\"Changement de catégorie PCS : {lr_model.coef_[1]:.0f}€ par niveau\",\n",
    "    'TIME_PERIOD': f\"Évolution annuelle : {lr_model.coef_[2]:.0f}€ par an\",\n",
    "    'GEO_numeric': f\"Impact géographique : {lr_model.coef_[3]:.6f}€ par unité geo\"\n",
    "}\n",
    "\n",
    "for feature, interpretation in coef_interpretation.items():\n",
    "    print(f\"  • {interpretation}\")"
   ]
  },
  {
   "cell_type": "code",
   "execution_count": 33,
   "id": "8d1cb4a3",
   "metadata": {},
   "outputs": [
    {
     "name": "stdout",
     "output_type": "stream",
     "text": [
      "\n",
      "📊 5. ÉVALUATION DES PERFORMANCES\n",
      "============================================================\n",
      "🎯 ÉVALUATION DU MODÈLE DE RÉGRESSION LINÉAIRE:\n",
      "\n",
      "📈 Métriques pour Train:\n",
      "  • R² Score: 0.7135\n",
      "  • RMSE: 431.03€\n",
      "  • MAE: 355.79€\n",
      "  • MSE: 185789.35\n",
      "\n",
      "📈 Métriques pour Test:\n",
      "  • R² Score: 0.7104\n",
      "  • RMSE: 432.04€\n",
      "  • MAE: 356.47€\n",
      "  • MSE: 186662.23\n",
      "\n",
      "🔄 VALIDATION CROISÉE (5-fold):\n",
      "  • R² CV moyen: 0.7135 (±0.0037)\n",
      "  • RMSE CV moyen: 431.06€ (±4.48€)\n",
      "\n",
      "📊 ANALYSE DE L'IMPORTANCE DES FEATURES:\n",
      "  • SEX_encoded: 17.7% de l'importance\n",
      "  • PCS_ESE_encoded: 77.9% de l'importance\n",
      "  • TIME_PERIOD: 4.1% de l'importance\n",
      "  • GEO_numeric: 0.3% de l'importance\n",
      "\n",
      "🔍 ANALYSE DES RÉSIDUS:\n",
      "  Train - Moyenne: -0.00€, Std: 431.03€\n",
      "  Test - Moyenne: -0.73€, Std: 432.05€\n",
      "\n",
      "============================================================\n",
      "🎯 MODÈLE BONUS: CLASSIFICATION BINAIRE\n",
      "----------------------------------------\n",
      "💭 Problématique: Prédiction salaire élevé (>médiane) vs faible (≤médiane)\n",
      "  Seuil médian: 2173.02€\n",
      "  Distribution: [93400 93400] (0: ≤médiane, 1: >médiane)\n",
      "\n",
      "📊 Coefficients du modèle logistique:\n",
      "  SEX_encoded: 0.632\n",
      "  PCS_ESE_encoded: -3.888\n",
      "  TIME_PERIOD: 0.281\n",
      "  GEO_numeric: -0.013\n",
      "  Intercept: -0.006\n"
     ]
    },
    {
     "name": "stderr",
     "output_type": "stream",
     "text": [
      "c:\\Users\\User\\AppData\\Local\\Programs\\Python\\Python313\\Lib\\site-packages\\numpy\\_core\\fromnumeric.py:867: UserWarning: Warning: 'partition' will ignore the 'mask' of the MaskedArray.\n",
      "  a.partition(kth, axis=axis, kind=kind, order=order)\n"
     ]
    }
   ],
   "source": [
    "# 5. ÉVALUATION DES PERFORMANCES\n",
    "print(\"\\n📊 5. ÉVALUATION DES PERFORMANCES\")\n",
    "print(\"=\" * 60)\n",
    "\n",
    "# Calcul des métriques de performance\n",
    "def calculate_regression_metrics(y_true, y_pred, dataset_name):\n",
    "    mse = mean_squared_error(y_true, y_pred)\n",
    "    rmse = np.sqrt(mse)\n",
    "    r2 = r2_score(y_true, y_pred)\n",
    "    mae = np.mean(np.abs(y_true - y_pred))\n",
    "    \n",
    "    print(f\"\\n📈 Métriques pour {dataset_name}:\")\n",
    "    print(f\"  • R² Score: {r2:.4f}\")\n",
    "    print(f\"  • RMSE: {rmse:.2f}€\")\n",
    "    print(f\"  • MAE: {mae:.2f}€\")\n",
    "    print(f\"  • MSE: {mse:.2f}\")\n",
    "    \n",
    "    return {'R2': r2, 'RMSE': rmse, 'MAE': mae, 'MSE': mse}\n",
    "\n",
    "# Évaluation sur train et test\n",
    "print(\"🎯 ÉVALUATION DU MODÈLE DE RÉGRESSION LINÉAIRE:\")\n",
    "train_metrics = calculate_regression_metrics(y_train, y_pred_train_lr, \"Train\")\n",
    "test_metrics = calculate_regression_metrics(y_test, y_pred_test_lr, \"Test\")\n",
    "\n",
    "# Validation croisée\n",
    "print(f\"\\n🔄 VALIDATION CROISÉE (5-fold):\")\n",
    "cv_scores = cross_val_score(lr_model, X_train_scaled, y_train, cv=5, scoring='r2')\n",
    "cv_rmse_scores = cross_val_score(lr_model, X_train_scaled, y_train, cv=5, \n",
    "                                scoring='neg_root_mean_squared_error')\n",
    "\n",
    "print(f\"  • R² CV moyen: {cv_scores.mean():.4f} (±{cv_scores.std()*2:.4f})\")\n",
    "print(f\"  • RMSE CV moyen: {-cv_rmse_scores.mean():.2f}€ (±{cv_rmse_scores.std()*2:.2f}€)\")\n",
    "\n",
    "# Analyse de la variance expliquée par feature\n",
    "print(f\"\\n📊 ANALYSE DE L'IMPORTANCE DES FEATURES:\")\n",
    "feature_importance = np.abs(lr_model.coef_)\n",
    "feature_importance_norm = feature_importance / np.sum(feature_importance) * 100\n",
    "\n",
    "for i, (feature, importance) in enumerate(zip(features_final, feature_importance_norm)):\n",
    "    print(f\"  • {feature}: {importance:.1f}% de l'importance\")\n",
    "\n",
    "# Analyse des résidus\n",
    "residuals_train = y_train - y_pred_train_lr\n",
    "residuals_test = y_test - y_pred_test_lr\n",
    "\n",
    "print(f\"\\n🔍 ANALYSE DES RÉSIDUS:\")\n",
    "print(f\"  Train - Moyenne: {residuals_train.mean():.2f}€, Std: {residuals_train.std():.2f}€\")\n",
    "print(f\"  Test - Moyenne: {residuals_test.mean():.2f}€, Std: {residuals_test.std():.2f}€\")\n",
    "\n",
    "# Test d'un modèle avec variable cible binaire (salaire élevé/faible)\n",
    "print(f\"\\n\" + \"=\"*60)\n",
    "print(\"🎯 MODÈLE BONUS: CLASSIFICATION BINAIRE\")\n",
    "print(\"-\" * 40)\n",
    "print(\"💭 Problématique: Prédiction salaire élevé (>médiane) vs faible (≤médiane)\")\n",
    "\n",
    "# Création de la variable cible binaire\n",
    "median_salary = y.median()\n",
    "y_binary = (y > median_salary).astype(int)\n",
    "y_train_binary = (y_train > median_salary).astype(int)\n",
    "y_test_binary = (y_test > median_salary).astype(int)\n",
    "\n",
    "print(f\"  Seuil médian: {median_salary:.2f}€\")\n",
    "print(f\"  Distribution: {y_binary.value_counts().values} (0: ≤médiane, 1: >médiane)\")\n",
    "\n",
    "# Modèle de régression logistique\n",
    "log_model = LogisticRegression(random_state=42, max_iter=1000)\n",
    "log_model.fit(X_train_scaled, y_train_binary)\n",
    "\n",
    "# Prédictions\n",
    "y_pred_train_log = log_model.predict(X_train_scaled)\n",
    "y_pred_test_log = log_model.predict(X_test_scaled)\n",
    "y_pred_proba_test = log_model.predict_proba(X_test_scaled)[:, 1]\n",
    "\n",
    "print(f\"\\n📊 Coefficients du modèle logistique:\")\n",
    "for i, feature in enumerate(features_final):\n",
    "    print(f\"  {feature}: {log_model.coef_[0][i]:.3f}\")\n",
    "print(f\"  Intercept: {log_model.intercept_[0]:.3f}\")"
   ]
  },
  {
   "cell_type": "code",
   "execution_count": 37,
   "id": "89786533",
   "metadata": {},
   "outputs": [
    {
     "name": "stdout",
     "output_type": "stream",
     "text": [
      "\n",
      "📊 ÉVALUATION DU MODÈLE DE CLASSIFICATION:\n",
      "--------------------------------------------------\n",
      "📈 Métriques de classification:\n",
      "  • Accuracy Train: 0.9426\n",
      "  • Accuracy Test: 0.9423\n",
      "  • Précision: 0.9440\n",
      "  • Rappel: 0.9409\n",
      "  • F1-Score: 0.9424\n",
      "\n",
      "📋 Rapport de classification détaillé:\n",
      "                   precision    recall  f1-score   support\n",
      "\n",
      "Salaire ≤ médiane       0.94      0.94      0.94     18618\n",
      "Salaire > médiane       0.94      0.94      0.94     18742\n",
      "\n",
      "         accuracy                           0.94     37360\n",
      "        macro avg       0.94      0.94      0.94     37360\n",
      "     weighted avg       0.94      0.94      0.94     37360\n",
      "\n",
      "\n",
      "📊 Matrice de confusion:\n",
      "                 Prédictions\n",
      "Réalité      ≤médiane  >médiane\n",
      "≤médiane       17572      1046\n",
      ">médiane        1108     17634\n",
      "\n",
      "================================================================================\n",
      "📋 6. SYNTHÈSE ET LIMITES DU MODÈLE\n",
      "================================================================================\n",
      "\n",
      "🎯 RÉSULTATS PRINCIPAUX:\n",
      "\n",
      "🎯 CLASSIFICATION BINAIRE (Salaire élevé/faible):\n",
      "   • Accuracy = 94.2% : Bonnes prédictions globales\n",
      "   • F1-Score = 0.942 : Équilibre précision/rappel acceptable\n",
      "\n",
      "\n",
      "\n",
      "\n",
      "📁 Résumé des performances:\n",
      "                        Modèle  Métrique_principale  RMSE_ou_Accuracy  MAE_ou_F1\n",
      "0  Régression Linéaire - Train                0.714           431.033    355.793\n",
      "1   Régression Linéaire - Test                0.710           432.044    356.470\n",
      "2        Classification - Test                0.942             0.942      0.942\n",
      "\n",
      "✅ Résultats sauvegardés dans 'resultats_modele_salaires.csv'\n",
      "\n",
      "🎉 ANALYSE COMPLÈTE TERMINÉE!\n",
      "================================================================================\n"
     ]
    }
   ],
   "source": [
    "# Évaluation du modèle de classification\n",
    "from sklearn.metrics import accuracy_score, precision_score, recall_score, f1_score\n",
    "\n",
    "print(f\"\\n📊 ÉVALUATION DU MODÈLE DE CLASSIFICATION:\")\n",
    "print(\"-\" * 50)\n",
    "\n",
    "# Métriques de classification\n",
    "train_accuracy = accuracy_score(y_train_binary, y_pred_train_log)\n",
    "test_accuracy = accuracy_score(y_test_binary, y_pred_test_log)\n",
    "test_precision = precision_score(y_test_binary, y_pred_test_log)\n",
    "test_recall = recall_score(y_test_binary, y_pred_test_log)\n",
    "test_f1 = f1_score(y_test_binary, y_pred_test_log)\n",
    "\n",
    "print(f\"📈 Métriques de classification:\")\n",
    "print(f\"  • Accuracy Train: {train_accuracy:.4f}\")\n",
    "print(f\"  • Accuracy Test: {test_accuracy:.4f}\")\n",
    "print(f\"  • Précision: {test_precision:.4f}\")\n",
    "print(f\"  • Rappel: {test_recall:.4f}\")\n",
    "print(f\"  • F1-Score: {test_f1:.4f}\")\n",
    "\n",
    "# Rapport de classification détaillé\n",
    "print(f\"\\n📋 Rapport de classification détaillé:\")\n",
    "print(classification_report(y_test_binary, y_pred_test_log, \n",
    "                          target_names=['Salaire ≤ médiane', 'Salaire > médiane']))\n",
    "\n",
    "# Matrice de confusion\n",
    "cm = confusion_matrix(y_test_binary, y_pred_test_log)\n",
    "print(f\"\\n📊 Matrice de confusion:\")\n",
    "print(f\"                 Prédictions\")\n",
    "print(f\"Réalité      ≤médiane  >médiane\")\n",
    "print(f\"≤médiane     {cm[0,0]:7d}   {cm[0,1]:7d}\")\n",
    "print(f\">médiane     {cm[1,0]:7d}   {cm[1,1]:7d}\")\n",
    "\n",
    "print(f\"\\n\" + \"=\"*80)\n",
    "print(\"📋 6. SYNTHÈSE ET LIMITES DU MODÈLE\")\n",
    "print(\"=\"*80)\n",
    "\n",
    "print(f\"\"\"\n",
    "🎯 RÉSULTATS PRINCIPAUX:\n",
    "\n",
    "🎯 CLASSIFICATION BINAIRE (Salaire élevé/faible):\n",
    "   • Accuracy = {test_accuracy:.1%} : Bonnes prédictions globales\n",
    "   • F1-Score = {test_f1:.3f} : Équilibre précision/rappel acceptable\n",
    "\n",
    "\n",
    "\"\"\")\n",
    "\n",
    "# Sauvegarde des résultats dans un fichier CSV\n",
    "results_summary = pd.DataFrame({\n",
    "    'Modèle': ['Régression Linéaire - Train', 'Régression Linéaire - Test', \n",
    "               'Classification - Test'],\n",
    "    'Métrique_principale': [train_metrics['R2'], test_metrics['R2'], test_accuracy],\n",
    "    'RMSE_ou_Accuracy': [train_metrics['RMSE'], test_metrics['RMSE'], test_accuracy],\n",
    "    'MAE_ou_F1': [train_metrics['MAE'], test_metrics['MAE'], test_f1]\n",
    "})\n",
    "\n",
    "print(f\"\\n📁 Résumé des performances:\")\n",
    "print(results_summary)\n",
    "\n",
    "# Sauvegarde\n",
    "results_summary.to_csv('resultats_modele_salaires.csv', index=False)\n",
    "print(f\"\\n✅ Résultats sauvegardés dans 'resultats_modele_salaires.csv'\")\n",
    "\n",
    "print(f\"\\n🎉 ANALYSE COMPLÈTE TERMINÉE!\")\n",
    "print(\"=\"*80)"
   ]
  },
  {
   "cell_type": "code",
   "execution_count": null,
   "id": "bd1c115c",
   "metadata": {},
   "outputs": [],
   "source": []
  }
 ],
 "metadata": {
  "kernelspec": {
   "display_name": "Python 3",
   "language": "python",
   "name": "python3"
  },
  "language_info": {
   "codemirror_mode": {
    "name": "ipython",
    "version": 3
   },
   "file_extension": ".py",
   "mimetype": "text/x-python",
   "name": "python",
   "nbconvert_exporter": "python",
   "pygments_lexer": "ipython3",
   "version": "3.13.7"
  }
 },
 "nbformat": 4,
 "nbformat_minor": 5
}
