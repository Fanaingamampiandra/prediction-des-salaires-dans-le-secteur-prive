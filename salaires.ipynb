{
 "cells": [
  {
   "cell_type": "markdown",
   "id": "c48ff7d7",
   "metadata": {},
   "source": [
    "## Prediction de salaire"
   ]
  },
  {
   "cell_type": "markdown",
   "id": "e3dbf1aa",
   "metadata": {},
   "source": [
    "### Bibliothèques utiles"
   ]
  },
  {
   "cell_type": "code",
   "execution_count": 1,
   "id": "106ef5ea",
   "metadata": {},
   "outputs": [],
   "source": [
    "import numpy as np\n",
    "import pandas as pd\n",
    "import matplotlib.pyplot as plt\n",
    "import seaborn as sns\n",
    "\n",
    "from sklearn.datasets import fetch_openml\n",
    "from sklearn.model_selection import train_test_split, cross_val_score\n",
    "from sklearn.preprocessing import StandardScaler\n",
    "from sklearn.impute import SimpleImputer\n",
    "from sklearn.pipeline import Pipeline\n",
    "from sklearn.compose import ColumnTransformer\n",
    "from sklearn.metrics import mean_squared_error, r2_score\n",
    "\n",
    "from sklearn.linear_model import LinearRegression, Ridge\n",
    "from sklearn.ensemble import RandomForestRegressor\n",
    "from xgboost import XGBRegressor\n",
    "\n",
    "from sklearn.cluster import KMeans\n",
    "from sklearn.decomposition import PCA\n",
    "\n",
    "RANDOM_STATE = 42\n",
    "np.random.seed(RANDOM_STATE)\n",
    "\n",
    "pd.set_option(\"display.float_format\", lambda x: f\"{x:,.3f}\")\n",
    "sns.set_context(\"talk\")\n",
    "pd.set_option('display.max_columns', 200)\n",
    "pd.set_option('display.width', 200)\n"
   ]
  },
  {
   "cell_type": "markdown",
   "id": "7f74dc91",
   "metadata": {},
   "source": [
    "### I-  Description de la base de donnée"
   ]
  },
  {
   "cell_type": "markdown",
   "id": "7a905436",
   "metadata": {},
   "source": [
    "#### Salaires dans le secteur privé selon le sexe et la catégorie socioprofessionnelle (base communale)\n",
    "\n",
    "* Le champ correspond aux salariés du privé, y compris bénéficiaires de contrats aidés et de contrats de professionnalisation ; hors apprentis, stagiaires, salariés agricoles et salariés des particuliers employeurs.\n",
    "\n",
    "* Les données sur les salaires au lieu de travail sont ventilées selon le sexe et la catégorie socioprofessionnelle (hors agriculture), et détaillées par territoire : commune, arrondissement municipal, arrondissement, aire d'attraction des villes 2020, bassin de vie 2022, établissement public de coopération intercommunal, unité urbaine 2020, zone d'emploi 2020, département, région, France hors Mayotte.\n",
    "\n",
    "Variables explicatives retenues :\n",
    "\n",
    "SEX : Sexe (Homme/Femme) - impact attendu sur l'écart salarial\n",
    "\n",
    "PCS_ESE : Profession et Catégorie Socioprofessionnelle - déterminant principal\n",
    "\n",
    "TIME_PERIOD : Année (2022-2023) - évolution temporelle\n",
    "\n",
    "GEO : Code géographique - variations territoriales"
   ]
  },
  {
   "cell_type": "code",
   "execution_count": 18,
   "id": "a0895856",
   "metadata": {},
   "outputs": [],
   "source": [
    "## lien vers le dataset\n",
    "data_path = r\"dataset\\DS_BTS_SAL_EQTP_SEX_PCS_2023_data.csv\"\n",
    "metadata_path = r\"dataset\\DS_BTS_SAL_EQTP_SEX_PCS_2023_metadata.csv\"\n"
   ]
  },
  {
   "cell_type": "code",
   "execution_count": 19,
   "id": "83e92be2",
   "metadata": {},
   "outputs": [],
   "source": [
    "data = pd.read_csv(data_path, sep=';')\n",
    "metadata = pd.read_csv(metadata_path, sep=';')"
   ]
  },
  {
   "cell_type": "code",
   "execution_count": 25,
   "id": "9a24397e",
   "metadata": {},
   "outputs": [
    {
     "name": "stdout",
     "output_type": "stream",
     "text": [
      " Dimensions du dataset: (370710, 9)\n",
      " Colonnes disponibles: ['GEO', 'GEO_OBJECT', 'FREQ', 'SEX', 'PCS_ESE', 'DERA_MEASURE', 'CONF_STATUS', 'TIME_PERIOD', 'OBS_VALUE']\n"
     ]
    }
   ],
   "source": [
    "# Affichage des informations de base\n",
    "print(f\" Dimensions du dataset: {data.shape}\")\n",
    "print(f\" Colonnes disponibles: {list(data.columns)}\")"
   ]
  },
  {
   "cell_type": "code",
   "execution_count": 26,
   "id": "24ededf1",
   "metadata": {},
   "outputs": [
    {
     "name": "stdout",
     "output_type": "stream",
     "text": [
      "\n",
      " Aperçu des premières lignes:\n",
      "     GEO GEO_OBJECT FREQ SEX PCS_ESE                      DERA_MEASURE CONF_STATUS  TIME_PERIOD  OBS_VALUE\n",
      "0  26362     BV2022    A   F      _T  SALAIRE_NET_EQTP_MENSUEL_MOYENNE           F         2022  2,157.285\n",
      "1  26324     BV2022    A  _T       4  SALAIRE_NET_EQTP_MENSUEL_MOYENNE           F         2022  3,112.938\n",
      "2  26307     BV2022    A  _T       6  SALAIRE_NET_EQTP_MENSUEL_MOYENNE           F         2023  2,013.097\n",
      "3  26362     BV2022    A  _T      _T  SALAIRE_NET_EQTP_MENSUEL_MOYENNE           F         2023  2,483.037\n",
      "4  27170     BV2022    A   F       4  SALAIRE_NET_EQTP_MENSUEL_MOYENNE           F         2022  2,107.221\n"
     ]
    }
   ],
   "source": [
    "print(\"\\n Aperçu des premières lignes:\")\n",
    "print(data.head())"
   ]
  },
  {
   "cell_type": "code",
   "execution_count": 23,
   "id": "64a627a1",
   "metadata": {},
   "outputs": [
    {
     "name": "stdout",
     "output_type": "stream",
     "text": [
      " Types de données:\n",
      "GEO              object\n",
      "GEO_OBJECT       object\n",
      "FREQ             object\n",
      "SEX              object\n",
      "PCS_ESE          object\n",
      "DERA_MEASURE     object\n",
      "CONF_STATUS      object\n",
      "TIME_PERIOD       int64\n",
      "OBS_VALUE       float64\n",
      "dtype: object\n"
     ]
    }
   ],
   "source": [
    "print(\" Types de données:\")\n",
    "print(data.dtypes)"
   ]
  },
  {
   "cell_type": "code",
   "execution_count": 24,
   "id": "49dc1dc1",
   "metadata": {},
   "outputs": [
    {
     "name": "stdout",
     "output_type": "stream",
     "text": [
      "\n",
      "📋 Informations détaillées:\n",
      "<class 'pandas.core.frame.DataFrame'>\n",
      "RangeIndex: 370710 entries, 0 to 370709\n",
      "Data columns (total 9 columns):\n",
      " #   Column        Non-Null Count   Dtype  \n",
      "---  ------        --------------   -----  \n",
      " 0   GEO           370710 non-null  object \n",
      " 1   GEO_OBJECT    370710 non-null  object \n",
      " 2   FREQ          370710 non-null  object \n",
      " 3   SEX           370710 non-null  object \n",
      " 4   PCS_ESE       370710 non-null  object \n",
      " 5   DERA_MEASURE  370710 non-null  object \n",
      " 6   CONF_STATUS   370710 non-null  object \n",
      " 7   TIME_PERIOD   370710 non-null  int64  \n",
      " 8   OBS_VALUE     350250 non-null  float64\n",
      "dtypes: float64(1), int64(1), object(7)\n",
      "memory usage: 25.5+ MB\n",
      "None\n"
     ]
    }
   ],
   "source": [
    "\n",
    "print(\"\\n📋 Informations détaillées:\")\n",
    "print(data.info())"
   ]
  },
  {
   "cell_type": "markdown",
   "id": "10695e24",
   "metadata": {},
   "source": [
    "### II-  Analyse exploratoire de donnée"
   ]
  },
  {
   "cell_type": "code",
   "execution_count": null,
   "id": "95c09073",
   "metadata": {},
   "outputs": [],
   "source": []
  },
  {
   "cell_type": "code",
   "execution_count": null,
   "id": "f879ce9d",
   "metadata": {},
   "outputs": [],
   "source": []
  },
  {
   "cell_type": "markdown",
   "id": "f4b97791",
   "metadata": {},
   "source": [
    "### III- Modèle de prédiction "
   ]
  },
  {
   "cell_type": "markdown",
   "id": "e941d46f",
   "metadata": {},
   "source": []
  }
 ],
 "metadata": {
  "kernelspec": {
   "display_name": "Python 3",
   "language": "python",
   "name": "python3"
  },
  "language_info": {
   "codemirror_mode": {
    "name": "ipython",
    "version": 3
   },
   "file_extension": ".py",
   "mimetype": "text/x-python",
   "name": "python",
   "nbconvert_exporter": "python",
   "pygments_lexer": "ipython3",
   "version": "3.13.7"
  }
 },
 "nbformat": 4,
 "nbformat_minor": 5
}
